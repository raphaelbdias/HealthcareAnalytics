{
 "cells": [
  {
   "cell_type": "code",
   "execution_count": null,
   "id": "8f0bc019",
   "metadata": {},
   "outputs": [],
   "source": []
  },
  {
   "cell_type": "code",
   "execution_count": 1,
   "id": "a3dabd6e",
   "metadata": {},
   "outputs": [],
   "source": [
    "import pandas as pd \n",
    "import numpy as np  \n",
    "import seaborn as sns \n",
    "import matplotlib.pyplot as plt \n",
    "%matplotlib inline \n",
    "  \n",
    "import warnings \n",
    "warnings.filterwarnings('ignore')"
   ]
  },
  {
   "cell_type": "markdown",
   "id": "0ceb4eee",
   "metadata": {},
   "source": [
    "### 1) Read and View\n",
    "\n",
    "- Head and Tail\n",
    "- Shape\n",
    "- Dtypes\n",
    "- Describe\n",
    "- Info\n",
    "- Shape"
   ]
  },
  {
   "cell_type": "code",
   "execution_count": 4,
   "id": "0ed90805",
   "metadata": {},
   "outputs": [],
   "source": [
    "# df = pd.read_csv()\n",
    "# df.head()\n",
    "# df.tail()\n",
    "# df.dtypes()\n",
    "# df.describe()\n",
    "# df.info()"
   ]
  },
  {
   "cell_type": "markdown",
   "id": "9f69fb8f",
   "metadata": {},
   "source": [
    "### 2) Data Preparation\n",
    "This involves performing operations on the dataset to make it look more clean, removing outliers, etc.\n",
    "\n",
    "- Dropping irrelevant rows and columns\n",
    "- Renaming columns(if needed)\n",
    "- Dropping Null values\n",
    "- Identifying duplicated columns"
   ]
  },
  {
   "cell_type": "code",
   "execution_count": 6,
   "id": "4408a925",
   "metadata": {},
   "outputs": [],
   "source": [
    "# df[cols].hist(figsize = (11,5), color=\"#800080\") -- Look for Distribution\n",
    "# df[cols].boxplot(figsize = (11,5), color=\"#800080\") -- look for Outliers\n",
    "\n"
   ]
  },
  {
   "cell_type": "markdown",
   "id": "1c8684ec",
   "metadata": {},
   "source": [
    "#### Detecting outlier\n",
    "- Global outliers: Stand out from the entire dataset, like a lone wolf.\n",
    "- Contextual outliers: Depend on their surroundings, like a high sale at a clothing store.\n",
    "- Collective outliers: Groups that deviate together, like a cluster of oddly high values.\n",
    "\n",
    "<b>Normal Distrbution (Z-score Treatment)</b>\n",
    "- *mean-3 x (sigma) or above mean+3 x (sigma)*\n",
    "- Mean minus 3 times sigma: $$\\mu - 3\\sigma$$\n",
    "- Mean plus 3 times sigma: $$\\mu + 3\\sigma$$\n",
    "\n",
    "\n",
    "<b>Skewed Distrbution (IQR Treatment)</b><br>\n",
    "*Q1 - 1.5 × IQR or above the third quartile Q3 + 1.5 × IQR are outliers, where Q1 and Q3 are the 25th and 75th percentile of the dataset, respectively. IQR represents the inter-quartile range and is given by Q3 - Q1.*\n",
    "\n",
    "Here are the expressions for identifying outliers:\n",
    "- Inter Quartile Range: $$ Q3 - Q1$$\n",
    "- Lower bound: $$ Q1 - 1.5 \\times \\text{IQR} $$\n",
    "- Upper bound: $$ Q3 + 1.5 \\times \\text{IQR} $$\n",
    "\n",
    "#### Treating outliers\n",
    "- Trimming\n",
    "- Capping\n",
    "- Imputing"
   ]
  },
  {
   "cell_type": "markdown",
   "id": "c0f5c281",
   "metadata": {},
   "source": [
    "### 3) Exploratory Data Analysis\n",
    "\n",
    "*Data Visualisation Data visualisation refers to graphical representation of data to communicate complex information in concise, and understandable manner. There are mainly three types of data visualisation i.e. univariate analysis, bivariate analysis and multivariate analysis.*\n",
    "\n",
    "- <b>Univariate analysis</b> is the most straightforward method which involves examining only one variable at a time using descriptive statistics like mean, median, mode, standard deviation, and range. The purpose of this analysis is to summarize the data and identify any patterns or trends.\n",
    "\n",
    "- <b>Bivariate analysis</b> is the study of the relationship between two variables, which can be determined by using correlation analysis, scatter plots, and other statistical methods. The main goal of this analysis is to establish whether there is a connection between the two variables and to comprehend the strength and direction of that connection.\n",
    "\n",
    "- <b>Multivariate analysis</b>, on the other hand, is a more intricate type of analysis that involves examining the relationships between three or more variables. It is commonly used in fields like finance, marketing, and social science to identify patterns, trends, and relationships not apparent from univariate or bivariate analysis."
   ]
  },
  {
   "cell_type": "code",
   "execution_count": 5,
   "id": "4294aa79",
   "metadata": {},
   "outputs": [],
   "source": [
    "# sns.pairplot(df, hue='Outcome', palette=('#FFFF00', '#800080')) -- Relationship between variables\n",
    "# sns.heatmap(df.corr(), annot=True, cmap='PiYG') -- correlation coefficients between all pairs of variables"
   ]
  },
  {
   "cell_type": "markdown",
   "id": "d7165385",
   "metadata": {},
   "source": [
    "### 3) Modelling Building\n",
    "*Model building creates a representation of a system for prediction or understanding.*\n",
    "\n",
    "Descriptive statistics provide a summary of the central tendency, dispersion, and shape of a dataset.\n",
    "\n",
    "\n"
   ]
  },
  {
   "cell_type": "code",
   "execution_count": 7,
   "id": "85ce773f",
   "metadata": {},
   "outputs": [],
   "source": [
    "from sklearn.model_selection import train_test_split \n",
    "# x = df.drop(['Outcome'],axis=1) \n",
    "# y = df['Outcome']"
   ]
  },
  {
   "cell_type": "code",
   "execution_count": 8,
   "id": "70907733",
   "metadata": {},
   "outputs": [],
   "source": [
    "from sklearn.preprocessing import StandardScaler \n",
    "  \n",
    "# sc= StandardScaler() \n",
    "# x_scaled= sc.fit_transform(x)"
   ]
  },
  {
   "cell_type": "code",
   "execution_count": 9,
   "id": "07d7bd72",
   "metadata": {},
   "outputs": [],
   "source": [
    "## split the data into train and test.\n",
    "\n",
    "# x_train, x_test, y_train, y_test = train_test_split( \n",
    "#                                     x_scaled, y, \n",
    "#                                     test_size=0.3, \n",
    "#                                     random_state=0) "
   ]
  },
  {
   "cell_type": "code",
   "execution_count": 10,
   "id": "ea11bc33",
   "metadata": {},
   "outputs": [],
   "source": [
    "# x_train.shape, y_train.shape \n",
    "# x_test.shape, y_test.shape\n"
   ]
  },
  {
   "cell_type": "code",
   "execution_count": 12,
   "id": "849ebc13",
   "metadata": {},
   "outputs": [],
   "source": [
    "from sklearn.linear_model import LogisticRegression \n",
    "logreg = LogisticRegression() \n",
    "# logreg.fit(x_train, y_train) \n",
    "# y_pred = logreg.predict(x_test)"
   ]
  },
  {
   "cell_type": "markdown",
   "id": "8f60945b",
   "metadata": {},
   "source": [
    "Computing Confusion Matrix\n"
   ]
  },
  {
   "cell_type": "code",
   "execution_count": 13,
   "id": "c4b96fcd",
   "metadata": {},
   "outputs": [],
   "source": [
    "from sklearn.metrics import confusion_matrix, accuracy_score \n",
    "# confmat = confusion_matrix(y_pred, y_test) \n",
    "# confmat"
   ]
  },
  {
   "cell_type": "code",
   "execution_count": 14,
   "id": "f23f23d8",
   "metadata": {},
   "outputs": [],
   "source": [
    "from sklearn import metrics \n",
    "# cm = metrics.ConfusionMatrixDisplay(confusion_matrix=metrics.confusion_matrix(y_pred, y_test, labels=logreg.classes_), \n",
    "#                                     display_labels=logreg.classes_) \n",
    "# cm.plot(cmap=\"RdYlBu\") -- plot the matrix"
   ]
  },
  {
   "cell_type": "markdown",
   "id": "91f10a4c",
   "metadata": {},
   "source": [
    "Model Accuracy with Logistic Regression"
   ]
  },
  {
   "cell_type": "code",
   "execution_count": 15,
   "id": "d29836f1",
   "metadata": {},
   "outputs": [],
   "source": [
    "# accuracy_score(y_pred, y_test)"
   ]
  },
  {
   "cell_type": "code",
   "execution_count": null,
   "id": "d3fd248a",
   "metadata": {},
   "outputs": [],
   "source": []
  }
 ],
 "metadata": {
  "kernelspec": {
   "display_name": "Python 3 (ipykernel)",
   "language": "python",
   "name": "python3"
  },
  "language_info": {
   "codemirror_mode": {
    "name": "ipython",
    "version": 3
   },
   "file_extension": ".py",
   "mimetype": "text/x-python",
   "name": "python",
   "nbconvert_exporter": "python",
   "pygments_lexer": "ipython3",
   "version": "3.11.4"
  }
 },
 "nbformat": 4,
 "nbformat_minor": 5
}
